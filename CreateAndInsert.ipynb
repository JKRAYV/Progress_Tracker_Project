{
 "cells": [
  {
   "cell_type": "code",
   "execution_count": 23,
   "metadata": {},
   "outputs": [],
   "source": [
    "import pymongo\n",
    "import seaborn\n",
    "import pandas\n",
    "import re"
   ]
  },
  {
   "cell_type": "code",
   "execution_count": 24,
   "metadata": {},
   "outputs": [],
   "source": [
    "\n",
    "client = pymongo.MongoClient(\"mongodb://localhost:27017/\")\n",
    "db = client['progress_tracker']\n",
    "tvCollection = db['TV']\n",
    "usersCollection = db['Users']"
   ]
  },
  {
   "cell_type": "code",
   "execution_count": 25,
   "metadata": {},
   "outputs": [
    {
     "data": {
      "text/plain": [
       "'Email_1'"
      ]
     },
     "execution_count": 25,
     "metadata": {},
     "output_type": "execute_result"
    }
   ],
   "source": [
    "tvCollection.create_index(\"Title\", unique=True)\n",
    "usersCollection.create_index(\"Username\", unique=True)\n",
    "usersCollection.create_index(\"Email\", unique=True)\n",
    "#tvCollection.drop()\n",
    "#usersCollection.drop()"
   ]
  },
  {
   "cell_type": "code",
   "execution_count": 26,
   "metadata": {},
   "outputs": [],
   "source": [
    "tvShows = [\n",
    "    {\n",
    "        \"Title\": \"Stranger Things\",\n",
    "        \"Creators\": [\"Matt Duffer\", \"Ross Duffer\"],\n",
    "        \"Number_of_Episodes\": 34\n",
    "    },\n",
    "    {\n",
    "        \"Title\": \"The Umbrella Academy\",\n",
    "        \"Creators\": [\"Steve Blackman\", \"Jeremy Slater\"],\n",
    "        \"Number_of_Episodes\": 30\n",
    "    },\n",
    "        {\n",
    "        \"Title\": \"The Crown\",\n",
    "        \"Creators\": [\"Peter Morgan\"],\n",
    "        \"Number_of_Episodes\": 50,\n",
    "    },\n",
    "    {\n",
    "        \"Title\": \"Money Heist\",\n",
    "        \"Creators\": [\"Álex Pina\"],\n",
    "        \"Number_of_Episodes\": 41,\n",
    "    },\n",
    "    {\n",
    "        \"Title\": \"Black Mirror\",\n",
    "        \"Creators\": [\"Charlie Brooker\"],\n",
    "        \"Number_of_Episodes\": 22,\n",
    "    },\n",
    "    {\n",
    "        \"Title\": \"The Witcher\",\n",
    "        \"Creators\": [\"Lauren Schmidt Hissrich\"],\n",
    "        \"Number_of_Episodes\": 24,\n",
    "    },\n",
    "    {\n",
    "        \"Title\": \"Narcos\",\n",
    "        \"Creators\": [\"Chris Brancato\", \"Carlo Bernard\", \"Doug Miro\"],\n",
    "        \"Number_of_Episodes\": 30,\n",
    "    },\n",
    "    {\n",
    "        \"Title\": \"Ozark\",\n",
    "        \"Creators\": [\"Bill Dubuque\", \"Mark Williams\"],\n",
    "        \"Number_of_Episodes\": 44,\n",
    "    },\n",
    "    {\n",
    "        \"Title\": \"The Haunting of Hill House\",\n",
    "        \"Creators\": [\"Mike Flanagan\"],\n",
    "        \"Number_of_Episodes\": 10,\n",
    "    },\n",
    "    {\n",
    "        \"Title\": \"Mindhunter\",\n",
    "        \"Creators\": [\"Joe Penhall\"],\n",
    "        \"Number_of_Episodes\": 19,\n",
    "    }\n",
    "]"
   ]
  },
  {
   "cell_type": "code",
   "execution_count": 27,
   "metadata": {},
   "outputs": [],
   "source": [
    "users = [\n",
    "    {\n",
    "        \"Fname\": \"John\",\n",
    "        \"Lname\": \"Doe\",\n",
    "        \"Username\": \"john_doe\",\n",
    "        \"Password\": \"password123\",\n",
    "        \"Profile_image\": \"user_bright.png\",\n",
    "        \"Email\": \"john.doe@example.com\",\n",
    "        \"Role\": \"user\",\n",
    "        \"Shows_Watched\": [\n",
    "            {\n",
    "                \"Name\": \"Stranger Things\",\n",
    "                \"Status\": \"watching\",\n",
    "                \"Episodes\": 5\n",
    "            }\n",
    "        ]\n",
    "    },\n",
    "    {\n",
    "        \"Fname\": \"Jane\",\n",
    "        \"Lname\": \"Smith\",\n",
    "        \"Username\": \"jane_smith\",\n",
    "        \"Password\": \"password321\",\n",
    "        \"Profile_image\": \"user_bright.png\",\n",
    "        \"Email\": \"jane.smith@example.com\",\n",
    "        \"Role\": \"user\",\n",
    "        \"Shows_Watched\": [\n",
    "            {\n",
    "                \"Name\": \"The Umbrella Academy\",\n",
    "                \"Status\": \"completed\",\n",
    "                \"Episodes\": 30\n",
    "            }\n",
    "        ]\n",
    "    }\n",
    "]"
   ]
  },
  {
   "cell_type": "code",
   "execution_count": 28,
   "metadata": {},
   "outputs": [
    {
     "name": "stdout",
     "output_type": "stream",
     "text": [
      "Tv Data inserted successfully.\n"
     ]
    }
   ],
   "source": [
    "try:\n",
    "    tvCollection.insert_many(tvShows)\n",
    "    print(\"Tv Data inserted successfully.\")\n",
    "except Exception as E:\n",
    "    if re.search('duplicate key', str(E)):\n",
    "        print(\"*Attempted to insert duplicate key(s)*\")\n",
    "    else:\n",
    "        print(str(E))"
   ]
  },
  {
   "cell_type": "code",
   "execution_count": 29,
   "metadata": {},
   "outputs": [
    {
     "name": "stdout",
     "output_type": "stream",
     "text": [
      "User Data inserted successfully.\n"
     ]
    }
   ],
   "source": [
    "try:\n",
    "    usersCollection.insert_many(users)\n",
    "    print(\"User Data inserted successfully.\")\n",
    "except Exception as E:\n",
    "    if re.search('duplicate key', str(E)):\n",
    "        print(\"*Attempted to insert duplicate key(s)*\")\n",
    "    else:\n",
    "        print(str(E))"
   ]
  },
  {
   "cell_type": "code",
   "execution_count": 30,
   "metadata": {},
   "outputs": [],
   "source": [
    "tvDocuments = tvCollection.find({})\n",
    "usersDocuments = usersCollection.find({})"
   ]
  },
  {
   "cell_type": "code",
   "execution_count": 31,
   "metadata": {},
   "outputs": [
    {
     "data": {
      "text/html": [
       "<div>\n",
       "<style scoped>\n",
       "    .dataframe tbody tr th:only-of-type {\n",
       "        vertical-align: middle;\n",
       "    }\n",
       "\n",
       "    .dataframe tbody tr th {\n",
       "        vertical-align: top;\n",
       "    }\n",
       "\n",
       "    .dataframe thead th {\n",
       "        text-align: right;\n",
       "    }\n",
       "</style>\n",
       "<table border=\"1\" class=\"dataframe\">\n",
       "  <thead>\n",
       "    <tr style=\"text-align: right;\">\n",
       "      <th></th>\n",
       "      <th>_id</th>\n",
       "      <th>Title</th>\n",
       "      <th>Creators</th>\n",
       "      <th>Number_of_Episodes</th>\n",
       "    </tr>\n",
       "  </thead>\n",
       "  <tbody>\n",
       "    <tr>\n",
       "      <th>0</th>\n",
       "      <td>64e392f2fa15294e7eeb14e2</td>\n",
       "      <td>Stranger Things</td>\n",
       "      <td>[Matt Duffer, Ross Duffer]</td>\n",
       "      <td>34</td>\n",
       "    </tr>\n",
       "    <tr>\n",
       "      <th>1</th>\n",
       "      <td>64e392f2fa15294e7eeb14e3</td>\n",
       "      <td>The Umbrella Academy</td>\n",
       "      <td>[Steve Blackman, Jeremy Slater]</td>\n",
       "      <td>30</td>\n",
       "    </tr>\n",
       "    <tr>\n",
       "      <th>2</th>\n",
       "      <td>64e392f2fa15294e7eeb14e4</td>\n",
       "      <td>The Crown</td>\n",
       "      <td>[Peter Morgan]</td>\n",
       "      <td>50</td>\n",
       "    </tr>\n",
       "    <tr>\n",
       "      <th>3</th>\n",
       "      <td>64e392f2fa15294e7eeb14e5</td>\n",
       "      <td>Money Heist</td>\n",
       "      <td>[Álex Pina]</td>\n",
       "      <td>41</td>\n",
       "    </tr>\n",
       "    <tr>\n",
       "      <th>4</th>\n",
       "      <td>64e392f2fa15294e7eeb14e6</td>\n",
       "      <td>Black Mirror</td>\n",
       "      <td>[Charlie Brooker]</td>\n",
       "      <td>22</td>\n",
       "    </tr>\n",
       "    <tr>\n",
       "      <th>5</th>\n",
       "      <td>64e392f2fa15294e7eeb14e7</td>\n",
       "      <td>The Witcher</td>\n",
       "      <td>[Lauren Schmidt Hissrich]</td>\n",
       "      <td>24</td>\n",
       "    </tr>\n",
       "    <tr>\n",
       "      <th>6</th>\n",
       "      <td>64e392f2fa15294e7eeb14e8</td>\n",
       "      <td>Narcos</td>\n",
       "      <td>[Chris Brancato, Carlo Bernard, Doug Miro]</td>\n",
       "      <td>30</td>\n",
       "    </tr>\n",
       "    <tr>\n",
       "      <th>7</th>\n",
       "      <td>64e392f2fa15294e7eeb14e9</td>\n",
       "      <td>Ozark</td>\n",
       "      <td>[Bill Dubuque, Mark Williams]</td>\n",
       "      <td>44</td>\n",
       "    </tr>\n",
       "    <tr>\n",
       "      <th>8</th>\n",
       "      <td>64e392f2fa15294e7eeb14ea</td>\n",
       "      <td>The Haunting of Hill House</td>\n",
       "      <td>[Mike Flanagan]</td>\n",
       "      <td>10</td>\n",
       "    </tr>\n",
       "    <tr>\n",
       "      <th>9</th>\n",
       "      <td>64e392f2fa15294e7eeb14eb</td>\n",
       "      <td>Mindhunter</td>\n",
       "      <td>[Joe Penhall]</td>\n",
       "      <td>19</td>\n",
       "    </tr>\n",
       "  </tbody>\n",
       "</table>\n",
       "</div>"
      ],
      "text/plain": [
       "                        _id                       Title  \\\n",
       "0  64e392f2fa15294e7eeb14e2             Stranger Things   \n",
       "1  64e392f2fa15294e7eeb14e3        The Umbrella Academy   \n",
       "2  64e392f2fa15294e7eeb14e4                   The Crown   \n",
       "3  64e392f2fa15294e7eeb14e5                 Money Heist   \n",
       "4  64e392f2fa15294e7eeb14e6                Black Mirror   \n",
       "5  64e392f2fa15294e7eeb14e7                 The Witcher   \n",
       "6  64e392f2fa15294e7eeb14e8                      Narcos   \n",
       "7  64e392f2fa15294e7eeb14e9                       Ozark   \n",
       "8  64e392f2fa15294e7eeb14ea  The Haunting of Hill House   \n",
       "9  64e392f2fa15294e7eeb14eb                  Mindhunter   \n",
       "\n",
       "                                     Creators  Number_of_Episodes  \n",
       "0                  [Matt Duffer, Ross Duffer]                  34  \n",
       "1             [Steve Blackman, Jeremy Slater]                  30  \n",
       "2                              [Peter Morgan]                  50  \n",
       "3                                 [Álex Pina]                  41  \n",
       "4                           [Charlie Brooker]                  22  \n",
       "5                   [Lauren Schmidt Hissrich]                  24  \n",
       "6  [Chris Brancato, Carlo Bernard, Doug Miro]                  30  \n",
       "7               [Bill Dubuque, Mark Williams]                  44  \n",
       "8                             [Mike Flanagan]                  10  \n",
       "9                               [Joe Penhall]                  19  "
      ]
     },
     "execution_count": 31,
     "metadata": {},
     "output_type": "execute_result"
    }
   ],
   "source": [
    "pandas.DataFrame(list(tvDocuments))"
   ]
  },
  {
   "cell_type": "code",
   "execution_count": 32,
   "metadata": {},
   "outputs": [
    {
     "data": {
      "text/html": [
       "<div>\n",
       "<style scoped>\n",
       "    .dataframe tbody tr th:only-of-type {\n",
       "        vertical-align: middle;\n",
       "    }\n",
       "\n",
       "    .dataframe tbody tr th {\n",
       "        vertical-align: top;\n",
       "    }\n",
       "\n",
       "    .dataframe thead th {\n",
       "        text-align: right;\n",
       "    }\n",
       "</style>\n",
       "<table border=\"1\" class=\"dataframe\">\n",
       "  <thead>\n",
       "    <tr style=\"text-align: right;\">\n",
       "      <th></th>\n",
       "      <th>_id</th>\n",
       "      <th>Fname</th>\n",
       "      <th>Lname</th>\n",
       "      <th>Username</th>\n",
       "      <th>Password</th>\n",
       "      <th>Profile_image</th>\n",
       "      <th>Email</th>\n",
       "      <th>Role</th>\n",
       "      <th>Shows_Watched</th>\n",
       "    </tr>\n",
       "  </thead>\n",
       "  <tbody>\n",
       "    <tr>\n",
       "      <th>0</th>\n",
       "      <td>64e392f2fa15294e7eeb14ec</td>\n",
       "      <td>John</td>\n",
       "      <td>Doe</td>\n",
       "      <td>john_doe</td>\n",
       "      <td>password123</td>\n",
       "      <td>user_bright.png</td>\n",
       "      <td>john.doe@example.com</td>\n",
       "      <td>user</td>\n",
       "      <td>[{'Name': 'Stranger Things', 'Status': 'watchi...</td>\n",
       "    </tr>\n",
       "    <tr>\n",
       "      <th>1</th>\n",
       "      <td>64e392f2fa15294e7eeb14ed</td>\n",
       "      <td>Jane</td>\n",
       "      <td>Smith</td>\n",
       "      <td>jane_smith</td>\n",
       "      <td>password321</td>\n",
       "      <td>user_bright.png</td>\n",
       "      <td>jane.smith@example.com</td>\n",
       "      <td>user</td>\n",
       "      <td>[{'Name': 'The Umbrella Academy', 'Status': 'c...</td>\n",
       "    </tr>\n",
       "  </tbody>\n",
       "</table>\n",
       "</div>"
      ],
      "text/plain": [
       "                        _id Fname  Lname    Username     Password  \\\n",
       "0  64e392f2fa15294e7eeb14ec  John    Doe    john_doe  password123   \n",
       "1  64e392f2fa15294e7eeb14ed  Jane  Smith  jane_smith  password321   \n",
       "\n",
       "     Profile_image                   Email  Role  \\\n",
       "0  user_bright.png    john.doe@example.com  user   \n",
       "1  user_bright.png  jane.smith@example.com  user   \n",
       "\n",
       "                                       Shows_Watched  \n",
       "0  [{'Name': 'Stranger Things', 'Status': 'watchi...  \n",
       "1  [{'Name': 'The Umbrella Academy', 'Status': 'c...  "
      ]
     },
     "execution_count": 32,
     "metadata": {},
     "output_type": "execute_result"
    }
   ],
   "source": [
    "pandas.DataFrame(list(usersDocuments))"
   ]
  }
 ],
 "metadata": {
  "kernelspec": {
   "display_name": "Python 3",
   "language": "python",
   "name": "python3"
  },
  "language_info": {
   "codemirror_mode": {
    "name": "ipython",
    "version": 3
   },
   "file_extension": ".py",
   "mimetype": "text/x-python",
   "name": "python",
   "nbconvert_exporter": "python",
   "pygments_lexer": "ipython3",
   "version": "3.10.1"
  },
  "orig_nbformat": 4
 },
 "nbformat": 4,
 "nbformat_minor": 2
}
