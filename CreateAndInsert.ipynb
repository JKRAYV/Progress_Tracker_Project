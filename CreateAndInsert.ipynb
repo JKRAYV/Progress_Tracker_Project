{
 "cells": [
  {
   "cell_type": "code",
   "execution_count": 253,
   "metadata": {},
   "outputs": [],
   "source": [
    "import pymongo\n",
    "import seaborn\n",
    "import pandas\n",
    "import re"
   ]
  },
  {
   "cell_type": "code",
   "execution_count": 254,
   "metadata": {},
   "outputs": [],
   "source": [
    "\n",
    "client = pymongo.MongoClient(\"mongodb://localhost:27017/\")\n",
    "db = client['progress_tracker']\n",
    "tvCollection = db['TV']\n",
    "usersCollection = db['Users']"
   ]
  },
  {
   "cell_type": "code",
   "execution_count": 255,
   "metadata": {},
   "outputs": [
    {
     "data": {
      "text/plain": [
       "'Email_1'"
      ]
     },
     "execution_count": 255,
     "metadata": {},
     "output_type": "execute_result"
    }
   ],
   "source": [
    "tvCollection.create_index(\"Title\", unique=True)\n",
    "usersCollection.create_index(\"Username\", unique=True)\n",
    "usersCollection.create_index(\"Email\", unique=True)"
   ]
  },
  {
   "cell_type": "code",
   "execution_count": 256,
   "metadata": {},
   "outputs": [],
   "source": [
    "tvShows = [\n",
    "    {\n",
    "        \"Title\": \"Stranger Things\",\n",
    "        \"Creators\": [\"Matt Duffer\", \"Ross Duffer\"],\n",
    "        \"Number of Episodes\": 34\n",
    "    },\n",
    "    {\n",
    "        \"Title\": \"The Umbrella Academy\",\n",
    "        \"Creators\": [\"Steve Blackman\", \"Jeremy Slater\"],\n",
    "        \"Number of Episodes\": 30\n",
    "    },\n",
    "        {\n",
    "        \"Title\": \"The Crown\",\n",
    "        \"Creators\": [\"Peter Morgan\"],\n",
    "        \"Number of Episodes\": 50,\n",
    "    },\n",
    "    {\n",
    "        \"Title\": \"Money Heist\",\n",
    "        \"Creators\": [\"Álex Pina\"],\n",
    "        \"Number of Episodes\": 41,\n",
    "    },\n",
    "    {\n",
    "        \"Title\": \"Black Mirror\",\n",
    "        \"Creators\": [\"Charlie Brooker\"],\n",
    "        \"Number of Episodes\": 22,\n",
    "    },\n",
    "    {\n",
    "        \"Title\": \"The Witcher\",\n",
    "        \"Creators\": [\"Lauren Schmidt Hissrich\"],\n",
    "        \"Number of Episodes\": 24,\n",
    "    },\n",
    "    {\n",
    "        \"Title\": \"Narcos\",\n",
    "        \"Creators\": [\"Chris Brancato\", \"Carlo Bernard\", \"Doug Miro\"],\n",
    "        \"Number of Episodes\": 30,\n",
    "    },\n",
    "    {\n",
    "        \"Title\": \"Ozark\",\n",
    "        \"Creators\": [\"Bill Dubuque\", \"Mark Williams\"],\n",
    "        \"Number of Episodes\": 44,\n",
    "    },\n",
    "    {\n",
    "        \"Title\": \"The Haunting of Hill House\",\n",
    "        \"Creators\": [\"Mike Flanagan\"],\n",
    "        \"Number of Episodes\": 10,\n",
    "    },\n",
    "    {\n",
    "        \"Title\": \"Mindhunter\",\n",
    "        \"Creators\": [\"Joe Penhall\"],\n",
    "        \"Number of Episodes\": 19,\n",
    "    }\n",
    "]"
   ]
  },
  {
   "cell_type": "code",
   "execution_count": 257,
   "metadata": {},
   "outputs": [],
   "source": [
    "users = [\n",
    "    {\n",
    "        \"Fname\": \"John\",\n",
    "        \"Lname\": \"Doe\",\n",
    "        \"Username\": \"john_doe\",\n",
    "        \"Password\": \"password123\",\n",
    "        \"Profile image\": \"path/to/image\",\n",
    "        \"Email\": \"john.doe@example.com\",\n",
    "        \"Role\": \"user\",\n",
    "        \"Shows watched\": [\n",
    "            {\n",
    "                \"Name\": \"Stranger Things\",\n",
    "                \"Status\": \"watching\",\n",
    "                \"Episodes\": 5\n",
    "            }\n",
    "        ]\n",
    "    },\n",
    "    {\n",
    "        \"Fname\": \"Jane\",\n",
    "        \"Lname\": \"Smith\",\n",
    "        \"Username\": \"jane_smith\",\n",
    "        \"Password\": \"password321\",\n",
    "        \"Profile image\": \"path/to/image\",\n",
    "        \"Email\": \"jane.smith@example.com\",\n",
    "        \"Role\": \"user\",\n",
    "        \"Shows watched\": [\n",
    "            {\n",
    "                \"Name\": \"The Umbrella Academy\",\n",
    "                \"Status\": \"completed\",\n",
    "                \"Episodes\": 30\n",
    "            }\n",
    "        ]\n",
    "    }\n",
    "]"
   ]
  },
  {
   "cell_type": "code",
   "execution_count": 269,
   "metadata": {},
   "outputs": [
    {
     "name": "stdout",
     "output_type": "stream",
     "text": [
      "batch op errors occurred, full error: {'writeErrors': [{'index': 0, 'code': 11000, 'errmsg': 'E11000 duplicate key error collection: progress_tracker.TV index: Title_1 dup key: { Title: \"Stranger Things\" }', 'keyPattern': {'Title': 1}, 'keyValue': {'Title': 'Stranger Things'}, 'op': {'Title': 'Stranger Things', 'Creators': ['Matt Duffer', 'Ross Duffer'], 'Number of Episodes': 34, '_id': ObjectId('64dce4be00c02dd55e7394c5')}}], 'writeConcernErrors': [], 'nInserted': 0, 'nUpserted': 0, 'nMatched': 0, 'nModified': 0, 'nRemoved': 0, 'upserted': []}\n"
     ]
    }
   ],
   "source": [
    "try:\n",
    "    tvCollection.insert_many(tvShows)\n",
    "    print(\"Tv Data inserted successfully.\")\n",
    "except Exception as E:\n",
    "    if re.search('duplicate keyee', str(E)):\n",
    "        print(\"*Attempted to insert duplicate key(s)*\")\n",
    "    else:\n",
    "        print(str(E))"
   ]
  },
  {
   "cell_type": "code",
   "execution_count": 268,
   "metadata": {},
   "outputs": [
    {
     "name": "stdout",
     "output_type": "stream",
     "text": [
      "*Attempted to insert duplicate key(s)*\n"
     ]
    }
   ],
   "source": [
    "try:\n",
    "    usersCollection.insert_many(users)\n",
    "    print(\"User Data inserted successfully.\")\n",
    "except Exception as E:\n",
    "    if re.search('duplicate keyee', str(E)):\n",
    "        print(\"*Attempted to insert duplicate key(s)*\")\n",
    "    else:\n",
    "        print(str(E))"
   ]
  },
  {
   "cell_type": "code",
   "execution_count": 260,
   "metadata": {},
   "outputs": [],
   "source": [
    "tvDocuments = tvCollection.find({})\n",
    "usersDocuments = usersCollection.find({})"
   ]
  },
  {
   "cell_type": "code",
   "execution_count": 261,
   "metadata": {},
   "outputs": [
    {
     "data": {
      "text/html": [
       "<div>\n",
       "<style scoped>\n",
       "    .dataframe tbody tr th:only-of-type {\n",
       "        vertical-align: middle;\n",
       "    }\n",
       "\n",
       "    .dataframe tbody tr th {\n",
       "        vertical-align: top;\n",
       "    }\n",
       "\n",
       "    .dataframe thead th {\n",
       "        text-align: right;\n",
       "    }\n",
       "</style>\n",
       "<table border=\"1\" class=\"dataframe\">\n",
       "  <thead>\n",
       "    <tr style=\"text-align: right;\">\n",
       "      <th></th>\n",
       "      <th>_id</th>\n",
       "      <th>Title</th>\n",
       "      <th>Creators</th>\n",
       "      <th>Number of Episodes</th>\n",
       "    </tr>\n",
       "  </thead>\n",
       "  <tbody>\n",
       "    <tr>\n",
       "      <th>0</th>\n",
       "      <td>64dce17e00c02dd55e739491</td>\n",
       "      <td>Stranger Things</td>\n",
       "      <td>[Matt Duffer, Ross Duffer]</td>\n",
       "      <td>34</td>\n",
       "    </tr>\n",
       "    <tr>\n",
       "      <th>1</th>\n",
       "      <td>64dce17e00c02dd55e739492</td>\n",
       "      <td>The Umbrella Academy</td>\n",
       "      <td>[Steve Blackman, Jeremy Slater]</td>\n",
       "      <td>30</td>\n",
       "    </tr>\n",
       "    <tr>\n",
       "      <th>2</th>\n",
       "      <td>64dce17e00c02dd55e739493</td>\n",
       "      <td>The Crown</td>\n",
       "      <td>[Peter Morgan]</td>\n",
       "      <td>50</td>\n",
       "    </tr>\n",
       "    <tr>\n",
       "      <th>3</th>\n",
       "      <td>64dce17e00c02dd55e739494</td>\n",
       "      <td>Money Heist</td>\n",
       "      <td>[Álex Pina]</td>\n",
       "      <td>41</td>\n",
       "    </tr>\n",
       "    <tr>\n",
       "      <th>4</th>\n",
       "      <td>64dce17e00c02dd55e739495</td>\n",
       "      <td>Black Mirror</td>\n",
       "      <td>[Charlie Brooker]</td>\n",
       "      <td>22</td>\n",
       "    </tr>\n",
       "    <tr>\n",
       "      <th>5</th>\n",
       "      <td>64dce17e00c02dd55e739496</td>\n",
       "      <td>The Witcher</td>\n",
       "      <td>[Lauren Schmidt Hissrich]</td>\n",
       "      <td>24</td>\n",
       "    </tr>\n",
       "    <tr>\n",
       "      <th>6</th>\n",
       "      <td>64dce17e00c02dd55e739497</td>\n",
       "      <td>Narcos</td>\n",
       "      <td>[Chris Brancato, Carlo Bernard, Doug Miro]</td>\n",
       "      <td>30</td>\n",
       "    </tr>\n",
       "    <tr>\n",
       "      <th>7</th>\n",
       "      <td>64dce17e00c02dd55e739498</td>\n",
       "      <td>Ozark</td>\n",
       "      <td>[Bill Dubuque, Mark Williams]</td>\n",
       "      <td>44</td>\n",
       "    </tr>\n",
       "    <tr>\n",
       "      <th>8</th>\n",
       "      <td>64dce17e00c02dd55e739499</td>\n",
       "      <td>The Haunting of Hill House</td>\n",
       "      <td>[Mike Flanagan]</td>\n",
       "      <td>10</td>\n",
       "    </tr>\n",
       "    <tr>\n",
       "      <th>9</th>\n",
       "      <td>64dce17e00c02dd55e73949a</td>\n",
       "      <td>Mindhunter</td>\n",
       "      <td>[Joe Penhall]</td>\n",
       "      <td>19</td>\n",
       "    </tr>\n",
       "  </tbody>\n",
       "</table>\n",
       "</div>"
      ],
      "text/plain": [
       "                        _id                       Title  \\\n",
       "0  64dce17e00c02dd55e739491             Stranger Things   \n",
       "1  64dce17e00c02dd55e739492        The Umbrella Academy   \n",
       "2  64dce17e00c02dd55e739493                   The Crown   \n",
       "3  64dce17e00c02dd55e739494                 Money Heist   \n",
       "4  64dce17e00c02dd55e739495                Black Mirror   \n",
       "5  64dce17e00c02dd55e739496                 The Witcher   \n",
       "6  64dce17e00c02dd55e739497                      Narcos   \n",
       "7  64dce17e00c02dd55e739498                       Ozark   \n",
       "8  64dce17e00c02dd55e739499  The Haunting of Hill House   \n",
       "9  64dce17e00c02dd55e73949a                  Mindhunter   \n",
       "\n",
       "                                     Creators  Number of Episodes  \n",
       "0                  [Matt Duffer, Ross Duffer]                  34  \n",
       "1             [Steve Blackman, Jeremy Slater]                  30  \n",
       "2                              [Peter Morgan]                  50  \n",
       "3                                 [Álex Pina]                  41  \n",
       "4                           [Charlie Brooker]                  22  \n",
       "5                   [Lauren Schmidt Hissrich]                  24  \n",
       "6  [Chris Brancato, Carlo Bernard, Doug Miro]                  30  \n",
       "7               [Bill Dubuque, Mark Williams]                  44  \n",
       "8                             [Mike Flanagan]                  10  \n",
       "9                               [Joe Penhall]                  19  "
      ]
     },
     "execution_count": 261,
     "metadata": {},
     "output_type": "execute_result"
    }
   ],
   "source": [
    "pandas.DataFrame(list(tvDocuments))"
   ]
  },
  {
   "cell_type": "code",
   "execution_count": 262,
   "metadata": {},
   "outputs": [
    {
     "data": {
      "text/html": [
       "<div>\n",
       "<style scoped>\n",
       "    .dataframe tbody tr th:only-of-type {\n",
       "        vertical-align: middle;\n",
       "    }\n",
       "\n",
       "    .dataframe tbody tr th {\n",
       "        vertical-align: top;\n",
       "    }\n",
       "\n",
       "    .dataframe thead th {\n",
       "        text-align: right;\n",
       "    }\n",
       "</style>\n",
       "<table border=\"1\" class=\"dataframe\">\n",
       "  <thead>\n",
       "    <tr style=\"text-align: right;\">\n",
       "      <th></th>\n",
       "      <th>_id</th>\n",
       "      <th>Fname</th>\n",
       "      <th>Lname</th>\n",
       "      <th>Username</th>\n",
       "      <th>Password</th>\n",
       "      <th>Profile image</th>\n",
       "      <th>Email</th>\n",
       "      <th>Role</th>\n",
       "      <th>Shows watched</th>\n",
       "    </tr>\n",
       "  </thead>\n",
       "  <tbody>\n",
       "    <tr>\n",
       "      <th>0</th>\n",
       "      <td>64dce17e00c02dd55e73949b</td>\n",
       "      <td>John</td>\n",
       "      <td>Doe</td>\n",
       "      <td>john_doe</td>\n",
       "      <td>password123</td>\n",
       "      <td>path/to/image</td>\n",
       "      <td>john.doe@example.com</td>\n",
       "      <td>user</td>\n",
       "      <td>[{'Name': 'Stranger Things', 'Status': 'watchi...</td>\n",
       "    </tr>\n",
       "    <tr>\n",
       "      <th>1</th>\n",
       "      <td>64dce17e00c02dd55e73949c</td>\n",
       "      <td>Jane</td>\n",
       "      <td>Smith</td>\n",
       "      <td>jane_smith</td>\n",
       "      <td>password321</td>\n",
       "      <td>path/to/image</td>\n",
       "      <td>jane.smith@example.com</td>\n",
       "      <td>user</td>\n",
       "      <td>[{'Name': 'The Umbrella Academy', 'Status': 'c...</td>\n",
       "    </tr>\n",
       "  </tbody>\n",
       "</table>\n",
       "</div>"
      ],
      "text/plain": [
       "                        _id Fname  Lname    Username     Password  \\\n",
       "0  64dce17e00c02dd55e73949b  John    Doe    john_doe  password123   \n",
       "1  64dce17e00c02dd55e73949c  Jane  Smith  jane_smith  password321   \n",
       "\n",
       "   Profile image                   Email  Role  \\\n",
       "0  path/to/image    john.doe@example.com  user   \n",
       "1  path/to/image  jane.smith@example.com  user   \n",
       "\n",
       "                                       Shows watched  \n",
       "0  [{'Name': 'Stranger Things', 'Status': 'watchi...  \n",
       "1  [{'Name': 'The Umbrella Academy', 'Status': 'c...  "
      ]
     },
     "execution_count": 262,
     "metadata": {},
     "output_type": "execute_result"
    }
   ],
   "source": [
    "pandas.DataFrame(list(usersDocuments))"
   ]
  }
 ],
 "metadata": {
  "kernelspec": {
   "display_name": "Python 3",
   "language": "python",
   "name": "python3"
  },
  "language_info": {
   "codemirror_mode": {
    "name": "ipython",
    "version": 3
   },
   "file_extension": ".py",
   "mimetype": "text/x-python",
   "name": "python",
   "nbconvert_exporter": "python",
   "pygments_lexer": "ipython3",
   "version": "3.8.7"
  },
  "orig_nbformat": 4
 },
 "nbformat": 4,
 "nbformat_minor": 2
}
